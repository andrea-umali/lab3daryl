{
 "cells": [
  {
   "cell_type": "markdown",
   "metadata": {},
   "source": [
    "192527\n",
    "Jacinto\n",
    "2 BS ITE"
   ]
  },
  {
   "cell_type": "code",
   "execution_count": 3,
   "metadata": {},
   "outputs": [
    {
     "name": "stdout",
     "output_type": "stream",
     "text": [
      "What is the first name? @eeebeee\n",
      "What is the second name? @joeilagan\n",
      "@eeebeee is friends with @joeilagan\n"
     ]
    }
   ],
   "source": [
    "social_graph = {\n",
    "    \"@bongolpoc\":{\"first_name\":\"Joselito\",\n",
    "                  \"last_name\":\"Olpoc\",\n",
    "                  \"following\":[\n",
    "                  ]\n",
    "    },\n",
    "    \"@joaquin\":  {\"first_name\":\"Joaquin\",\n",
    "                  \"last_name\":\"Gonzales\",\n",
    "                  \"following\":[\n",
    "                      \"@chums\",\"@jobenilagan\"\n",
    "                  ]\n",
    "    },\n",
    "    \"@chums\" : {\"first_name\":\"Matthew\",\n",
    "                \"last_name\":\"Uy\",\n",
    "                \"following\":[\n",
    "                    \"@bongolpoc\",\"@miketan\",\"@rudyang\",\"@joeilagan\"\n",
    "                ]\n",
    "    },\n",
    "    \"@jobenilagan\":{\"first_name\":\"Joben\",\n",
    "                   \"last_name\":\"Ilagan\",\n",
    "                   \"following\":[\n",
    "                    \"@eeebeee\",\"@joeilagan\",\"@chums\",\"@joaquin\"\n",
    "                   ]\n",
    "    },\n",
    "    \"@joeilagan\":{\"first_name\":\"Joe\",\n",
    "                  \"last_name\":\"Ilagan\",\n",
    "                  \"following\":[\n",
    "                    \"@eeebeee\",\"@jobenilagan\",\"@chums\"\n",
    "                  ]\n",
    "    },\n",
    "    \"@eeebeee\":  {\"first_name\":\"Elizabeth\",\n",
    "                  \"last_name\":\"Ilagan\",\n",
    "                  \"following\":[\n",
    "                    \"@jobenilagan\",\"@joeilagan\"\n",
    "                  ]\n",
    "    },\n",
    "}\n",
    "\n",
    "def relationship_status(from_member, to_member):\n",
    "  try:\n",
    "    if to_member in social_graph[from_member][\"following\"] and from_member in social_graph[to_member][\"following\"]:\n",
    "      print(f\"{from_member} is friends with {to_member}\")\n",
    "    elif to_member in social_graph[from_member][\"following\"]:\n",
    "      print(f\"{from_member} follows {to_member}\")\n",
    "    elif from_member in social_graph[to_member][\"following\"]:\n",
    "     print(f\"{from_member} is followed by {to_member}\")\n",
    "    else:\n",
    "      print(\"nothing\")\n",
    "  except:\n",
    "    print(\"name not found\")\n",
    "    \n",
    "first_name = input(\"What is the first name? \")\n",
    "second_name = input(\"What is the second name? \")\n",
    "relationship_status(first_name, second_name)"
   ]
  },
  {
   "cell_type": "code",
   "execution_count": 4,
   "metadata": {},
   "outputs": [
    {
     "name": "stdout",
     "output_type": "stream",
     "text": [
      "X\n"
     ]
    }
   ],
   "source": [
    "board1 = [\n",
    "['X','X','O'],\n",
    "['O','X','O'],\n",
    "['O','','X'],\n",
    "]\n",
    "\n",
    "board2 = [\n",
    "['X','X','O'],\n",
    "['O','X','O'],\n",
    "['','O','X'],\n",
    "]\n",
    "\n",
    "board3 = [\n",
    "['O','X','O'],\n",
    "['','O','X'],\n",
    "['X','X','O'],\n",
    "]\n",
    "\n",
    "board4 = [\n",
    "['X','X','X'],\n",
    "['O','X','O'],\n",
    "['O','','O'],\n",
    "]\n",
    "\n",
    "board5 = [\n",
    "['X','X','O'],\n",
    "['O','X','O'],\n",
    "['X','','O'],\n",
    "]\n",
    "\n",
    "board6 = [\n",
    "['X','X','O'],\n",
    "['O','X','O'],\n",
    "['X','',''],\n",
    "]\n",
    "\n",
    "def get_winner(board):  # check for a winner. Only works for 3 x 3 board\n",
    "\n",
    "# check lef to right\n",
    "\n",
    "  for row in board:  \n",
    "      if row[0] == row[1] == row[2] and row[0] != ' ':\n",
    "          print(row[0])\n",
    "\n",
    "# check up to down\n",
    "\n",
    "  for col in range(3):  \n",
    "      if board[0][col] == board[1][col] == board[2][col] and board[0][col] != ' ':\n",
    "          print(board[0][col])\n",
    "\n",
    "# check the diagonal\n",
    "\n",
    "  if board[0][0] == board[1][1] == board[2][2] and board[0][0] != ' ':  \n",
    "      print(board[0][0])\n",
    "\n",
    "  if board[0][2] == board[1][1] == board[2][0] and board[0][2] != ' ':\n",
    "      print(board[0][2])\n",
    "\n",
    "# Enter in the parenthesis which board will be checked below\n",
    "\n",
    "get_winner(board1)"
   ]
  },
  {
   "cell_type": "code",
   "execution_count": 6,
   "metadata": {},
   "outputs": [
    {
     "name": "stdout",
     "output_type": "stream",
     "text": [
      "Enter first location: admu\n",
      "Enter second location: upd\n",
      "ETA: 90\n"
     ]
    }
   ],
   "source": [
    "locations = {\n",
    "    \"admu\":{\n",
    "        \"name\":\"Ateneo de Manila University\",\n",
    "        \"latitude\":14.6394557,\n",
    "        \"longitude\":121.0758975        \n",
    "    },\n",
    "    \"upd\":{\n",
    "        \"name\":\"University of the Philippines-Diliman Campus\",\n",
    "        \"latitude\":14.6538519,\n",
    "        \"longitude\":121.0663348\n",
    "    },\n",
    "    \"dlsu\":{\n",
    "        \"name\":\"De La Salle University-Taft\",\n",
    "        \"latitude\":14.5647346,\n",
    "        \"longitude\":120.9909876\n",
    "\n",
    "    }, # <-- Note that Python does not complain about this extra comma. This is perfectly okay.\n",
    "       #     The creators of Python saw that dictionaries tend to be changed a lot, so allowing this is a\n",
    "       #     convenience for developers who need to add elements when needed.\n",
    "}\n",
    "\n",
    "legs = {\n",
    "     (\"upd\",\"admu\"):{\n",
    "         \"travel_time_mins\":10\n",
    "     },\n",
    "     (\"admu\",\"dlsu\"):{\n",
    "         \"travel_time_mins\":35\n",
    "     },\n",
    "     (\"dlsu\",\"upd\"):{\n",
    "         \"travel_time_mins\":55\n",
    "     }\n",
    "}\n",
    "\n",
    "upd_to_admu = (legs[\"upd\", \"admu\"][\"travel_time_mins\"])\n",
    "admu_to_dlsu = (legs[\"admu\", \"dlsu\"][\"travel_time_mins\"])\n",
    "dlsu_to_upd = (legs[\"dlsu\", \"upd\"][\"travel_time_mins\"])\n",
    "travel_times = [upd_to_admu, admu_to_dlsu, dlsu_to_upd]\n",
    "\n",
    "def eta(source, destination):\n",
    "  if source == \"upd\" and destination == \"dlsu\":\n",
    "    print(f\"ETA: {upd_to_admu + admu_to_dlsu}\")\n",
    "  elif source == \"admu\" and destination == \"upd\":\n",
    "    print(f\"ETA: {admu_to_dlsu + dlsu_to_upd}\")\n",
    "  elif source == \"dlsu\" and destination == \"admu\":\n",
    "    print(f\"ETA: {dlsu_to_upd + upd_to_admu}\")\n",
    "  else:\n",
    "    time = (legs[location_one, location_two][\"travel_time_mins\"])\n",
    "    print(f\"ETA: {time}\")\n",
    "\n",
    "location_one = input(\"Enter first location: \")\n",
    "location_two = input(\"Enter second location: \")\n",
    "eta(location_one, location_two)\n"
   ]
  },
  {
   "cell_type": "code",
   "execution_count": null,
   "metadata": {},
   "outputs": [],
   "source": []
  },
  {
   "cell_type": "code",
   "execution_count": null,
   "metadata": {},
   "outputs": [],
   "source": []
  },
  {
   "cell_type": "code",
   "execution_count": null,
   "metadata": {},
   "outputs": [],
   "source": []
  },
  {
   "cell_type": "code",
   "execution_count": null,
   "metadata": {},
   "outputs": [],
   "source": []
  },
  {
   "cell_type": "code",
   "execution_count": null,
   "metadata": {},
   "outputs": [],
   "source": []
  }
 ],
 "metadata": {
  "kernelspec": {
   "display_name": "Python 3",
   "language": "python",
   "name": "python3"
  },
  "language_info": {
   "codemirror_mode": {
    "name": "ipython",
    "version": 3
   },
   "file_extension": ".py",
   "mimetype": "text/x-python",
   "name": "python",
   "nbconvert_exporter": "python",
   "pygments_lexer": "ipython3",
   "version": "3.8.3"
  }
 },
 "nbformat": 4,
 "nbformat_minor": 4
}
